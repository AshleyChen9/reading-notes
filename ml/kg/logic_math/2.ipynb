{
 "cells": [
  {
   "cell_type": "markdown",
   "metadata": {},
   "source": [
    "# 第2章 集合\n",
    "## 1.集合（不）是什么？\n",
    "只有一个元素的集合，称为`单元素`。\n",
    "\n",
    "一般而言，如果$\\varphi(x)$表示一个性质，则我们就用$\\{x|\\varphi(x)\\}$表示所有具有此性质的元素的聚合，换言之：任给x,$x \\in \\{x|\\varphi(x)\\}$当且仅当x满足$\\varphi$（即$\\varphi(x)$成立）。\n",
    "\n",
    "直观上看来，对任意一个集合，我们似乎可以设计一个概念来表述它；而任意一个概念，也似乎决定一个集合。这与弗雷格的观念（集合是概念的外延）吻合。\n",
    "\n",
    "p32"
   ]
  },
  {
   "cell_type": "code",
   "execution_count": null,
   "metadata": {},
   "outputs": [],
   "source": []
  }
 ],
 "metadata": {
  "kernelspec": {
   "display_name": "Python 3",
   "language": "python",
   "name": "python3"
  },
  "language_info": {
   "codemirror_mode": {
    "name": "ipython",
    "version": 3
   },
   "file_extension": ".py",
   "mimetype": "text/x-python",
   "name": "python",
   "nbconvert_exporter": "python",
   "pygments_lexer": "ipython3",
   "version": "3.7.2"
  }
 },
 "nbformat": 4,
 "nbformat_minor": 2
}
