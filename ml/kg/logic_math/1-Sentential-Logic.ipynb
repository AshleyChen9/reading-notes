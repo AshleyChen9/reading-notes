{
 "cells": [
  {
   "cell_type": "markdown",
   "metadata": {},
   "source": [
    "# 第1章 命题逻辑\n",
    "## 1.1 命题逻辑的语言\n",
    "![1-1](1-1.png)\n",
    "\n",
    "下面按序说明几个符号：\n",
    "1. $\\lnot,\\land,\\lor,\\to,\\leftrightarrow$这5个符号称为`命题联结符`。命题联结符和括号一起统称为`逻辑符号`。命题符号则称为`参数`（或称为`非逻辑符号`）。\n",
    "2. 命题符号有无穷多个。一种比较合适的表示方法是使用一个命题符号A和一个撇号'，这样我们就可以用潜在的无限序列A,A',A'',...\n",
    "3. 许多逻辑学家喜欢将$A_n$称为`第n个命题`（proposition）符号。\n",
    "4. 这些对象称为“符号”。从本体论的角度看，这些符号是中性的。\n",
    "5. 假定任何符号都不是其他符号的有限序列。一方面，这些符号中任何一个要不同于其他符号；另一方面它们也不是其他的两个或者更多符号构成的有限序列。\n",
    "\n",
    "`表达式`是符号的有限序列。\n",
    "\n",
    "将合式公式定义为“语法正确”的表达式。定义应该达到如下效果：\n",
    "\n",
    "1. 每个命题符号都是合式公式；\n",
    "2. 如果$\\alpha$和$\\beta$是合式公式，那么$(\\lnot \\alpha),(\\alpha \\land \\beta),(\\alpha \\lor \\beta),(\\alpha \\to \\beta),(\\alpha \\leftrightarrow \\beta)$也是合式公式；\n",
    "3. 只有通过上述(a)和(b)得到的表达式才是合式公式。\n",
    "\n",
    "第3条性质应该表述为：合式公式（简称公式）是通过对命题符号有限次运用构造公式的运算（formula-building operation）而得到的表达式，构造公式的运算由下列的等式定义：\n",
    "\n",
    "$$\\varepsilon_\\lnot(\\alpha)=(\\lnot \\alpha)$$\n",
    "\n",
    "$$\\varepsilon_\\land(\\alpha,\\beta)=(\\alpha \\land \\beta)$$\n",
    "\n",
    "$$\\varepsilon_\\lor(\\alpha,\\beta)=(\\alpha \\lor \\beta)$$\n",
    "\n",
    "$$\\varepsilon_\\to(\\alpha,\\beta)=(\\alpha \\to \\beta)$$\n",
    "\n",
    "$$\\varepsilon_\\leftrightarrow(\\alpha,\\beta)=(\\alpha \\leftrightarrow \\beta)$$\n",
    "\n",
    "下面详细描述“构造”的思想：如果对每个$i \\le n$，构造序列$<\\epsilon_1,\\cdots,\\epsilon_n>$至少满足以下三条中的一条，那么我们称$<\\epsilon_1,\\cdots,\\epsilon_n>$是一个表达式的有限序列，\n",
    "\n",
    "$\\epsilon_i$是一个命题符号\n",
    "\n",
    "对某个j < i，使得$\\epsilon_i=\\varepsilon_\\lnot(\\epsilon_j)$;\n",
    "\n",
    "对某个j< i, k < i,使得$\\epsilon_i=\\varepsilon_\\square(\\epsilon_j,\\epsilon_k)$。\n",
    "\n",
    "其中$\\square$是某个二元连接符号，即$\\land,\\lor,\\to,\\leftrightarrow$中的一个。那么，某个构造序列的最后一个表达式$\\alpha$就是合式公式。在构造过程中，我们将$\\epsilon_i$看作第i个阶段形成的表达式。\n",
    "\n",
    "这类构造的一个特定是服从归纳法则（induction principle）。称集合S在二院函数f作用下是封闭的（close），当且仅当无论何时对于任意的$x \\in S$和$y \\in S$都有$f(x,y) \\in S$，我们可以类似地定义一元函数的封闭性等等。\n",
    "\n",
    "**归纳法则**：如果S是一个包含所有命题符号的合式公式的集合，并且在5种运算的作用下是封闭的，那么S是所有合式公式的集合。"
   ]
  },
  {
   "cell_type": "code",
   "execution_count": null,
   "metadata": {},
   "outputs": [],
   "source": []
  }
 ],
 "metadata": {
  "kernelspec": {
   "display_name": "Python 3",
   "language": "python",
   "name": "python3"
  },
  "language_info": {
   "codemirror_mode": {
    "name": "ipython",
    "version": 3
   },
   "file_extension": ".py",
   "mimetype": "text/x-python",
   "name": "python",
   "nbconvert_exporter": "python",
   "pygments_lexer": "ipython3",
   "version": "3.7.2"
  }
 },
 "nbformat": 4,
 "nbformat_minor": 2
}
