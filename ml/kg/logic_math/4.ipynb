{
 "cells": [
  {
   "cell_type": "markdown",
   "metadata": {},
   "source": [
    "# 第4章 经典语义学\n",
    "## 1.结构与解释\n",
    "**1.1 定义**：设$\\mathcal L$是一阶语言。一个$\\mathcal L$-结构$\\mathcal A$是一个有序对<A, $\\eta$>，它满足以下性质：\n",
    "\n",
    "1. A是个体的非空集合，称为$\\mathcal A$的全域或$\\mathcal L$的论域。\n",
    "2. $\\eta$是定义在$\\mathcal L$的非逻辑符号集上的函数，使得\n",
    "   1. 对$\\mathcal L$的每个个体常项c,$\\eta(c) \\in A$。\n",
    "   2. 对$\\mathcal L$的每个n元谓词P，$\\eta(P)$是A中的一个n元关系。\n",
    "   3. 对$\\mathcal L$的每个n元函数符号f，$\\eta(f)$是A中的一个n元函数。\n",
    "\n",
    "由定义知，一个$\\mathcal L$-结构$\\mathcal A=<A,\\eta>$首先有一个作为语言$\\mathcal L$的论域的非空个体域A，然后它有一个解释函数$\\eta$，把$\\mathcal L$中的个体常项、谓词、函数符号分别对应或解释为A中的个体、关系（一元关系是性质）和函数：$\\eta(c)$是常项c的指称，$\\eta(P)$是谓词P所表达的关系，$\\eta(f)$是函数符号f表达的函数。一个$\\mathcal L$-结构确定了$\\mathcal L$的所有非逻辑符号的意义。\n",
    "\n",
    "以后我们把$\\eta$的值$\\eta(c),\\eta(P),\\eta(f)$分别记作：$c^{\\mathcal A},P^{\\mathcal A},f^{\\mathcal A}$。\n",
    "\n",
    "例如，$\\mathcal L_m=\\{a,P,Q,f\\}$，一个$\\mathcal L_m$结构就可记为$\\mathcal A=<A,a^{\\mathcal A},P^{\\mathcal A},Q^{\\mathcal A},f^{\\mathcal A}>$，其中\n",
    "\n",
    "- a是A中个体$a^{\\mathcal A}$的名字；\n",
    "- P表达A的子集（A中的性质）$P^{\\mathcal A}$；\n",
    "- Q表达$A^2$的子集（A中的二元关系）$Q^{\\mathcal A}$；\n",
    "- f表达A中一元函数$f^{\\mathcal A}$。\n",
    "\n",
    "注意这里两套语言的区别。首先，我们有一阶语言$\\mathcal L_m,a,P,Q,f$等是这个语言中的符号，它们可以构成项、公式等$\\mathcal L$-表达式。这是我们要解释，或通过结构赋予意义的对象语言。\n",
    "\n",
    "其次，$a^{\\mathcal A},P^{\\mathcal A},Q^{\\mathcal A},f^{\\mathcal A},\\in$等，不是$\\mathcal L_m$中的符号，它们属于元语言层次，是用来解释$\\mathcal L_m$的。\n",
    "\n",
    "**1.6 定义**：对给定的$\\mathcal L$-结构$\\mathcal A=<A,\\eta>$，一个$\\mathcal A$中的`赋值`是从$\\mathcal L$的个体变项集到$\\mathcal A$的全域A中的一个函数：$\\rho:\\{x_0,x_1,x_2,\\cdots\\} \\to A$。\n",
    "\n",
    "$\\rho$对每个个体变项x指定A中的一个元素$\\rho(x)$作为其值。对个体变项的赋值加上结构中已有的对非逻辑符号的解释，就使$\\mathcal L$中的所有项（包括含有个体变项的）都代表个体，所有的非等式原子公式（包括开公式）都有真值。\n",
    "\n",
    "**1.7 定义**：对语言$\\mathcal L$的一个`解释`指有序对$\\sigma=<\\mathcal A,\\rho>$，其中$\\mathcal A$是一个$\\mathcal L$-结构，$\\rho$是一个$\\mathcal A$中的赋值。\n",
    "\n",
    "定义中的$\\mathcal A$叫做$\\sigma$的结构，$\\mathcal A$的全域A也称解释$\\sigma$的全域。显然，一个解释就是一个结构加上其中的一个赋值，把语言中的个体变项一并规定了确定的取值。\n",
    "\n",
    "一个$\\mathcal L$-解释能够确定所有$\\mathcal L$-项对应的个体，我们把这个事实总结为如下的递归定义：\n",
    "\n",
    "**1.8 定义**：设t是一个$\\mathcal L$-项，$\\sigma=<\\mathcal A,\\rho>$是个$\\mathcal L$-解释。我们称t在$\\sigma$之下所对应的个体为t在$\\sigma$之下的取值，记为$\\sigma(t)$。$\\sigma(t)$是满足以下条件的函数的值：\n",
    "\n",
    "1. 若t为个体变项$x_i(i \\ge 0)$，则$\\sigma(t)=\\rho(x_i)$；\n",
    "2. 若t为$\\mathcal L$的个体常项c，则$\\sigma(t)=c^{\\mathcal A}$；\n",
    "3. 若t为$ft_1\\cdots t_n$，其中f是$\\mathcal L$的n元函数符号$(n \\ge 1),t_1,\\cdots,t_n$是n个$\\mathcal L$-项，则$\\sigma(t)=f^{\\mathcal A}(\\sigma(t_1),\\cdots,\\sigma(t_n))$。\n",
    "\n",
    "定义了每个$\\mathcal L$-项t的值$\\sigma(t)$之后，$\\mathcal L$的每个形如$Pt_1\\cdots t_n$的原子公式都有了确定的真值。\n"
   ]
  },
  {
   "cell_type": "code",
   "execution_count": null,
   "metadata": {},
   "outputs": [],
   "source": []
  }
 ],
 "metadata": {
  "kernelspec": {
   "display_name": "Python 3",
   "language": "python",
   "name": "python3"
  },
  "language_info": {
   "codemirror_mode": {
    "name": "ipython",
    "version": 3
   },
   "file_extension": ".py",
   "mimetype": "text/x-python",
   "name": "python",
   "nbconvert_exporter": "python",
   "pygments_lexer": "ipython3",
   "version": "3.7.2"
  }
 },
 "nbformat": 4,
 "nbformat_minor": 2
}
