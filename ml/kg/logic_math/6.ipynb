{
 "cells": [
  {
   "cell_type": "markdown",
   "metadata": {},
   "source": [
    "# 第6章 可靠性与完全性\n",
    "我们要证明，经典语义后承概念$\\models$与经典语形后承概念$\\vdash_c$在外延上恰好重合，就是说$\\Phi\\models\\varphi\\Leftrightarrow\\Phi\\vdash_c\\varphi$。\n",
    "\n",
    "方向“$\\Leftarrow$”表明，经典逻辑的推演是有效的推理，语形上的推演不会导致语义上不正确的推理，这称为经典逻辑的`可靠性`；而“$\\Rightarrow$”表明有效的推理都能实现为经典逻辑的推演，语形上的推演穷尽了语义上正确的推理，这称为经典逻辑的`完全性`。"
   ]
  },
  {
   "cell_type": "code",
   "execution_count": null,
   "metadata": {},
   "outputs": [],
   "source": []
  }
 ],
 "metadata": {
  "kernelspec": {
   "display_name": "Python 3",
   "language": "python",
   "name": "python3"
  },
  "language_info": {
   "codemirror_mode": {
    "name": "ipython",
    "version": 3
   },
   "file_extension": ".py",
   "mimetype": "text/x-python",
   "name": "python",
   "nbconvert_exporter": "python",
   "pygments_lexer": "ipython3",
   "version": "3.7.2"
  }
 },
 "nbformat": 4,
 "nbformat_minor": 2
}
