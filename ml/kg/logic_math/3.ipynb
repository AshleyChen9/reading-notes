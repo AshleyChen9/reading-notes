{
 "cells": [
  {
   "cell_type": "markdown",
   "metadata": {},
   "source": [
    "# 第3章 一阶语言的语形\n",
    "## 1.字母表\n",
    "**1.1 定义**：一个一阶语言$\\mathcal L$的`字母表`由以下符号组成：\n",
    "1. 一组非逻辑符号，其中包括：\n",
    "   1. 一个（可能空的）个体常项集；\n",
    "   2. 对每个$n \\ge 1$，一个（可能空的）n元谓词集；\n",
    "   3. 对每个$n \\ge 1$，一个（可能空的）n元函数符号集。\n",
    "2. 一组固定的逻辑符号，其中包含：\n",
    "   1. 个体变项$x_0,x_1,x_2,\\cdots$（可数无穷多）；\n",
    "   2. 量词$\\forall, \\exists$；\n",
    "   3. 联结词$\\lnot,\\land,\\lor,\\to$；\n",
    "   4. 等词$\\equiv$；\n",
    "   5. 括号)，(\n",
    "\n",
    "进一步要求$\\mathcal L$是一个形式语言，就必须要求它的字母集及其每个子类都是能行可判定的，就是说，我们能行的程序来判定下面的问题：任给一个符号，它是不是$\\mathcal L$的字母？是不是$\\mathcal L$的逻辑符号？是不是$\\mathcal L$的非逻辑符号？是逻辑符号的哪一类？是非逻辑符号的哪一类？\n",
    "\n",
    "形式语言对其字母集（及其每个子类）的大小做了限定，要求它（它们）是可数的。\n",
    "\n",
    "词项、公式等语言对象的形态最终由字母决定。又因为所有一阶语言有共同的逻辑符号，它们的字母表的差别完全由非逻辑符号决定，不妨把一个一阶语言就简单地看成它的非逻辑符号集。若它的非逻辑符号集是有穷的，我们就说这个语言是有穷的；反之就称这个语言是无穷的。\n",
    "\n",
    "在谈论一个一阶语言的时候，我们需要一些元语言的变项来代表这个（对象）语言字母表中的任意某类符号。我们约定，在元语言中用\n",
    "\n",
    "- x,y,x等代表一阶语言的个体变项；\n",
    "- c,d,e等代表一阶语言的个体常项；\n",
    "- P,Q,R等代表一阶语言的谓词；\n",
    "- f,g,h等代表一阶语言的函数符号。"
   ]
  },
  {
   "cell_type": "code",
   "execution_count": null,
   "metadata": {},
   "outputs": [],
   "source": []
  }
 ],
 "metadata": {
  "kernelspec": {
   "display_name": "Python 3",
   "language": "python",
   "name": "python3"
  },
  "language_info": {
   "codemirror_mode": {
    "name": "ipython",
    "version": 3
   },
   "file_extension": ".py",
   "mimetype": "text/x-python",
   "name": "python",
   "nbconvert_exporter": "python",
   "pygments_lexer": "ipython3",
   "version": "3.7.2"
  }
 },
 "nbformat": 4,
 "nbformat_minor": 2
}
