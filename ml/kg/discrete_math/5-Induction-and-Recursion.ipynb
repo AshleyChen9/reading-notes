{
 "cells": [
  {
   "cell_type": "markdown",
   "metadata": {},
   "source": [
    "# 第5章 归纳与递归\n",
    "## 5.1 数学归纳法\n",
    "### 5.1.2 数学归纳法\n",
    "**数学归纳法原理**：为证明对所有的正整数n，P(n)为真，其中P(n)是一个命题函数，需要完成两个步骤：\n",
    "\n",
    "- `基础步骤`：证明命题P(1)为真。\n",
    "- `归纳步骤`：证明对每个正整数k来说，蕴含式$P(k) \\to P(k+1)$为真。\n",
    "\n",
    "P(k)为真的假设叫做`归纳假设`。\n",
    "\n",
    "作为推理规则的一种表达方式，这一证明技巧可描述为：\n",
    "\n",
    "$$(P(1) \\land \\forall k(P(k) \\to P(k+1))) \\to \\forall n P(n)$$\n",
    "\n",
    "其中的论域是正整数集合。"
   ]
  },
  {
   "cell_type": "markdown",
   "metadata": {},
   "source": [
    "## 5.2强归纳法与良序性\n",
    "### 5.2.2 强归纳法\n",
    "**强归纳法**： 要证明对所有的正整数n而言，都有P(n)为真，其中P(n)为命题函数，我们要完成如下两个步骤：\n",
    "\n",
    "- `基本步骤`：证明P(1)为真。\n",
    "- `归纳步骤`：要证明对对所有正整数k来说，蕴含式$[P(1) \\land P(2) \\land \\cdots \\land P(k)] \\to P(k+1)$也为真。"
   ]
  },
  {
   "cell_type": "code",
   "execution_count": null,
   "metadata": {},
   "outputs": [],
   "source": []
  }
 ],
 "metadata": {
  "kernelspec": {
   "display_name": "Python 3",
   "language": "python",
   "name": "python3"
  },
  "language_info": {
   "codemirror_mode": {
    "name": "ipython",
    "version": 3
   },
   "file_extension": ".py",
   "mimetype": "text/x-python",
   "name": "python",
   "nbconvert_exporter": "python",
   "pygments_lexer": "ipython3",
   "version": "3.7.2"
  }
 },
 "nbformat": 4,
 "nbformat_minor": 2
}
