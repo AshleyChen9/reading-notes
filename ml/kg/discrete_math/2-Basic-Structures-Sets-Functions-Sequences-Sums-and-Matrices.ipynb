{
 "cells": [
  {
   "cell_type": "markdown",
   "metadata": {},
   "source": [
    "# 第2章 基本结构：集合、函数、序列、求和与矩阵\n",
    "## 2.1 集合\n",
    "### 2.1.1 引言\n",
    "**定义1**：集合是对象的一个无序的聚集，对象也称为集合的元素（element）或成员（member）。集合包含（contain）它的元素。我们用$a \\in A$来表示a是集合A中的一个元素。而记号$a \\notin A$表示a不是集合A中的一个元素。\n",
    "\n",
    "通常我们用大写字母来表示集合。用小写字母表示集合中的元素。\n",
    "\n",
    "**定义2**：两个集合相等当且仅当它们拥有同样的元素。所以，如果A和B是集合，则A和B是相等的当且仅当$\\forall x(x \\in A \\leftrightarrow x \\in B)$。如果A和B是相等的集合，就记为A=B。\n",
    "\n",
    "有一个特殊的不含任何元素的集合。这个集合称为`空集`（empty set 或 null set），并用$\\phi$表示。\n",
    "\n",
    "只有一个元素的集合叫做**单元素集**（singleton set）。一个常见的错误是混淆空集$\\phi$与单元素集{$\\phi$}。\n",
    "\n",
    "### 2.1.3 子集\n",
    "**定义3**：集合A是集合B的子集当且仅当A的每个元素也是B的元素。我们用记号$A \\subseteq B$表示集合A是集合B的子集。\n",
    "\n",
    "$A \\subseteq B$当且仅当量化式 $\\forall x(x \\in A \\to x \\in B)$为真。\n",
    "\n",
    "- **证明A是B的子集**：要证明$A \\subseteq B$，需要证明如果x属于A则x属于B。\n",
    "- **证明A不是B的子集**：要证明$A \\not \\subseteq B$，需要找一个$x \\in A$使得$x \\notin B$\n",
    "\n",
    "**定理1**：对于任意集合S，（i）$\\phi \\subseteq S$ 和 （ii）$S \\subseteq S$。\n",
    "\n",
    "**证明两个集合相等**：$A \\subseteq B$ 和 $B \\subseteq A$\n",
    "\n",
    "### 2.1.4 集合的大小\n",
    "**定义4**：令S为集合。如果S中恰有n个不同的元素，这里n是非负整数，我们就说S是有限集，而n是S的`基数`（cardinality）。S的基数记为|S|。\n",
    "\n",
    "**定义5**：一个集合称为是无限的如果它不是有限的。\n",
    "\n",
    "### 2.1.5 幂集\n",
    "**定义6**：给定集合S，S的幂集（power set）是集合S所有子集的集合。S的幂集记为P(S)。\n",
    "\n",
    "### 2.1.6 笛卡尔积\n",
    "**定义7**：有序n元组（ordered n-tuple）(a1,a2,...,an)是以a1为第1个元素，a2为第2个元素，...，an为第n个元素的有序聚集。\n",
    "\n",
    "两个有序n元组是相等的当且仅当每一对对应的元素都相等。换言之，(a1,a2,...,an)=(b1,b2,...,bn)当且仅当对于i=1,2,...,n,有ai=bi。特别地，有序二元组为`序偶`（ordered pair）。\n",
    "\n",
    "**定义8**：令A和B为集合。A和B的笛卡尔积（Cartesian product）用$A \\times B$表示，是所有序偶（a,b）的集合，其中$a \\in A$且$b \\in B$。于是，$A \\times B=\\{(a,b)|a \\in A \\land b \\in B\\}$\n",
    "\n",
    "**定义9**：集合A1,A2,...,An的笛卡尔积用$A_1 \\times A_2 \\times \\cdots \\times A_n$表示，是有序n元组(a1,a2,...,an)的集合，其中ai属于Ai，i=1,2,...,n。换言之，$A_1 \\times A_2 \\times \\cdots \\times A_n=\\{(a_1,a_2,\\cdots,a_n)|a_i \\in A_i,i=1,2,\\cdots,n\\}$\n",
    "\n",
    "### 2.1.7 使用带量词的集合符号\n",
    "有时我们通过使用特定的符号来显式地限定一个量化命题的论域。例如，$\\forall x \\in S(P(x))$表示P(x)在集合S所有元素上的全称量化。换句话说，$\\forall x \\in S(P(x))$是$\\forall x(x \\in S \\to P(x))$的简写。类似地，$\\exists x \\in S(P(x))$表示P(x)在集合S所有元素上的存在量化。即$\\exists x \\in S(P(x))$是$\\exists x (x \\in S \\land P(x))$的简写。\n",
    "\n",
    "### 2.1.8 真值集和量词\n",
    "给定谓词P和论域D，定义P的真值集(truth set)为D中使P(x)为真的元素x组成的集合。P(x)的真值集记为$\\{x \\in D | P(x)\\}$。"
   ]
  },
  {
   "cell_type": "code",
   "execution_count": null,
   "metadata": {},
   "outputs": [],
   "source": []
  }
 ],
 "metadata": {
  "kernelspec": {
   "display_name": "Python 3",
   "language": "python",
   "name": "python3"
  },
  "language_info": {
   "codemirror_mode": {
    "name": "ipython",
    "version": 3
   },
   "file_extension": ".py",
   "mimetype": "text/x-python",
   "name": "python",
   "nbconvert_exporter": "python",
   "pygments_lexer": "ipython3",
   "version": "3.7.2"
  }
 },
 "nbformat": 4,
 "nbformat_minor": 2
}
