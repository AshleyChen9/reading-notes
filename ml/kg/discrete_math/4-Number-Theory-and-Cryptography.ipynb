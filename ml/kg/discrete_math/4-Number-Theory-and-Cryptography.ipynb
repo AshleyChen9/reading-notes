{
 "cells": [
  {
   "cell_type": "markdown",
   "metadata": {},
   "source": [
    "# 第4章 数论和密码学\n",
    "## 4.1 整除性和模算术\n",
    "### 4.1.2 除法\n",
    "**定义1**：如果a和b是整数且$a \\ne 0$，我们称a整除b如果有整数c使得b=ac，或者等价地，如果$\\frac{b}{a}$是一个整数。当a整除b时，我们称a是b的一个因子或除数，而b是a的一个倍数。用记号$a \\mid b$表示a整除b。当a不能整除b时则写成$a \\nmid b$。\n",
    "\n",
    "评注：可以用量词把$a \\mid b$表示成($\\exists c(ac=b)$)，其中论域是整数集合。\n",
    "\n",
    "**定理1**：令a，b，c为整数，其中$a \\ne 0$。则\n",
    "\n",
    "1. 如果a|b和a|c，则a|(b+c)。\n",
    "2. 如果a|b，那么对所有整数c都有a|bc。\n",
    "3. 如果a|b，b|c，则a|c。\n",
    "\n",
    "**推论1**：如果a，b，c是整数，其中$a \\ne 0$，使得a|b和a|c，那么当m和n是整数时有a|mb+nc。\n",
    "\n",
    "### 4.1.3 除法算法\n",
    "**定理2 除法算法（division algorithm）**：令a为整数，d为正整数，则存在唯一的整数q和r，满足$0 \\le r < d$，使得a=dq+r。\n",
    "\n",
    "**定义2**：在除法算法的等式中，d称为是除数，a称为是被除数，q称为是商，r称为是余数。下面的记号用来表示商和余数。\n",
    "\n",
    "q = a div d,r = a mod d\n",
    "\n",
    "### 4.1.4 模算术\n",
    "**定义3**：如果a和b为整数而m为正整数，则当m整除a-b时称a模m同余b。用记号$a \\equiv b(mod\\ m)$表示a模m同余b。我们称$a \\equiv b(mod\\ m)$为**同余式**（congruence），而那个m是它的**模**（modulus）。\n",
    "\n",
    "**定理3**：令a和b为整数，并令m为正整数，则$a \\equiv b(mod\\ m)$当且仅当a mod m = b。\n",
    "\n",
    "**定理4**：令m为正整数。整数a和b是模m同余的当且仅当存在整数k使得a=b+km。\n",
    "\n",
    "**定理5**：令m为正整数。如果$a \\equiv b(mod\\ m),c \\equiv d(mod\\ m)$，则$a+c \\equiv b+d(mod\\ m)$并且$ac \\equiv bd(mod\\ m)$。\n",
    "\n",
    "推理2：令m是正整数，令a和b是整数。则\n",
    "\n",
    "(a+b) mod m = ((a mod m) + (b mod m)) mod m\n",
    "\n",
    "并且\n",
    "\n",
    "ab mod m = ((a mod m)(b mod m)) mod m。\n",
    "\n",
    "### 4.1.5 模m算术\n",
    "$a+_m b=(a+b)\\ mod\\ m$\n",
    "\n",
    "$a\\cdot_m b=(a \\cdot b)\\ mod\\ m$\n",
    "\n",
    "运算符$+_m$和$\\cdot_m$满足这些性质：\n",
    "\n",
    "- 封闭性：如果a和b属于$Z_m$，则$a +_m b$和$a \\cdot_m b$也属于$Z_m$。\n",
    "- 结合律：如果a，b和c属于$Z_m$，则有$(a+_m b) +_m c = a+_m(b +_m c)$和$(a \\cdot_m b)\\cdot_m c = a \\cdot_m (b \\cdot_m c)$。\n",
    "- 交换律：如果a和b属于$Z_m$，则$a +_m b = b +_m a$和$a \\cdot_m b=b \\cdot_m a$。\n",
    "- 单位元：元素0和1分别是模m加法和乘法的单位元。即如果a属于$Z_m$，则$a +_m 0=a$和$a \\cdot_m 1=a$。\n",
    "- 加法逆元：如果$a \\ne 0$属于$Z_m$，则m-a时a的模m加法逆元，而0是其自身的加法逆元。即$a +_m (m-a)=0$且$0 +_m 0=0$。\n",
    "- 分配律：如果a，b和c属于$Z_m$，则$a \\cdot_m (b +_m c) = (a \\cdot_m b) + (a \\cdot_m c)$和$(a +_m b) \\cdot_m c=(a \\cdot_m c) +_m (b \\cdot_m c)$。\n",
    "\n",
    "评注：因为带有模m加法和乘法运算的$Z_m$满足上面所列的性质，所以$Z_m$连同模加法被称为一个**交换群**，而$Z_m$连同这两个运算被称为一个**交换环**。注意整数集合加上普通的加法和乘法也构成一个交换环。"
   ]
  },
  {
   "cell_type": "code",
   "execution_count": null,
   "metadata": {},
   "outputs": [],
   "source": []
  }
 ],
 "metadata": {
  "kernelspec": {
   "display_name": "Python 3",
   "language": "python",
   "name": "python3"
  },
  "language_info": {
   "codemirror_mode": {
    "name": "ipython",
    "version": 3
   },
   "file_extension": ".py",
   "mimetype": "text/x-python",
   "name": "python",
   "nbconvert_exporter": "python",
   "pygments_lexer": "ipython3",
   "version": "3.7.2"
  }
 },
 "nbformat": 4,
 "nbformat_minor": 2
}
