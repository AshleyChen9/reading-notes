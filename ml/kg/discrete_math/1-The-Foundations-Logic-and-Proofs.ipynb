{
 "cells": [
  {
   "cell_type": "markdown",
   "metadata": {},
   "source": [
    "# 第1章 基础：逻辑与证明\n",
    "## 1.1 命题逻辑\n",
    "### 1.1.1 引言\n",
    "`逻辑规则`给出数学语句的准确含义，这些规则用来区分有效和无效的数学论证。\n",
    "\n",
    "### 1.1.2 命题\n",
    "`命题`是一个陈述句（即陈述事实的语句），它或真或假，但不能既真又假。\n",
    "\n",
    "我们用字母来表示`命题变元`，它是代表命题的变量。习惯上用字母p,q,r,s,...表示命题。如果一个命题是真命题，它的`真值`为真，用T表示；如果它是假命题，其真值为假，用F表示。\n",
    "\n",
    "涉及命题的逻辑领域称为`命题演算`或`命题逻辑`。\n",
    "\n",
    "许多数学陈述都是由一个或多个命题组合而来。称为`复合命题`的新命题是由已知命题用逻辑运算符组合而来。\n",
    "\n",
    "**定义1**：令p为一命题，则p的否定记作$\\lnot$p。命题$\\lnot$p读作『非p』。p的否定（$\\lnot$p）的真值和p的真值相反。\n",
    "\n",
    "表1 命题之否定的真值表\n",
    "\n",
    "p | $\\lnot$p\n",
    "---| --\n",
    "T | F\n",
    "F | T\n",
    "\n",
    "命题的否定也可以看作`否定运算符`作用在命题上的结构。否定运算符从一个已知命题构造出一个新命题。这些逻辑运算符也称作`联接词`。\n",
    "\n",
    "**定义2**：令p和q为命题。p、q的合取即命题『p并且q』，记作$p \\land q$。当p和q都是真时，$p \\land q$命题为真，否则为假。\n",
    "\n",
    "表2 俩命题合取的真值表\n",
    "\n",
    "p | q | $p \\land q$\n",
    "---|----|--------\n",
    "T | T | T\n",
    "T | F | F\n",
    "F | T | F\n",
    "F | F | F\n",
    "\n",
    "**定义3**：令p和q为命题。p和q的析取即命题『p或q』，记作$p \\lor q$。当p和q均为假时，合取命题$p \\lor q$为假，否则为真。\n",
    "\n",
    "表3 俩命题析取的真值表\n",
    "\n",
    "p | q | $p \\lor q$\n",
    "---|----|--------\n",
    "T | T | T\n",
    "T | F | T\n",
    "F | T | T\n",
    "F | F | F\n",
    "\n",
    "**定义4**：令p和q为命题。p和q的异或（记作$p \\oplus q$）是这样一个命题：当p和q中恰好只有一个为真时命题为真，否则为假。\n",
    "\n",
    "表4 俩命题异或的真值表\n",
    "\n",
    "p | q | $p \\oplus q$\n",
    "---|----|--------\n",
    "T | T | F\n",
    "T | F | T\n",
    "F | T | T\n",
    "F | F | F\n"
   ]
  },
  {
   "cell_type": "code",
   "execution_count": null,
   "metadata": {},
   "outputs": [],
   "source": []
  }
 ],
 "metadata": {
  "kernelspec": {
   "display_name": "Python 3",
   "language": "python",
   "name": "python3"
  },
  "language_info": {
   "codemirror_mode": {
    "name": "ipython",
    "version": 3
   },
   "file_extension": ".py",
   "mimetype": "text/x-python",
   "name": "python",
   "nbconvert_exporter": "python",
   "pygments_lexer": "ipython3",
   "version": "3.7.2"
  }
 },
 "nbformat": 4,
 "nbformat_minor": 2
}
